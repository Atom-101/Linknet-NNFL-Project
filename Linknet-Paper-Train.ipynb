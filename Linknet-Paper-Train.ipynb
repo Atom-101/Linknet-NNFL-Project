{
 "cells": [
  {
   "cell_type": "code",
   "execution_count": 1,
   "metadata": {},
   "outputs": [],
   "source": [
    "%load_ext autoreload\n",
    "%autoreload 2"
   ]
  },
  {
   "cell_type": "code",
   "execution_count": 2,
   "metadata": {},
   "outputs": [
    {
     "name": "stderr",
     "output_type": "stream",
     "text": [
      "/home/ubuntu/anaconda3/lib/python3.7/importlib/_bootstrap.py:219: RuntimeWarning: numpy.ufunc size changed, may indicate binary incompatibility. Expected 192 from C header, got 216 from PyObject\n",
      "  return f(*args, **kwds)\n",
      "/home/ubuntu/anaconda3/lib/python3.7/importlib/_bootstrap.py:219: RuntimeWarning: numpy.ufunc size changed, may indicate binary incompatibility. Expected 192 from C header, got 216 from PyObject\n",
      "  return f(*args, **kwds)\n"
     ]
    }
   ],
   "source": [
    "import os\n",
    "import glob\n",
    "import random\n",
    "from PIL import Image\n",
    "import pandas as pd\n",
    "from skimage import io\n",
    "import numpy as np\n",
    "import matplotlib.pyplot as plt\n",
    "from tqdm.notebook import tqdm\n",
    "import torch\n",
    "import torch.nn as nn\n",
    "from torch.utils.data import Dataset, DataLoader\n",
    "from torchvision import transforms, utils\n",
    "import torchvision.transforms.functional as F\n",
    "\n",
    "from class_weights import gen_cls_wts\n",
    "imagenet_stats = ([0.485, 0.456, 0.406], [0.229, 0.224, 0.225])\n",
    "\n",
    "# seed everything\n",
    "seed = 42\n",
    "# python RNG\n",
    "import random\n",
    "random.seed(seed)\n",
    "# pytorch RNGs\n",
    "import torch\n",
    "torch.manual_seed(seed)\n",
    "torch.backends.cudnn.deterministic = True\n",
    "if torch.cuda.is_available(): torch.cuda.manual_seed_all(seed)\n",
    "# numpy RNG\n",
    "import numpy as np\n",
    "np.random.seed(seed)"
   ]
  },
  {
   "cell_type": "markdown",
   "metadata": {},
   "source": [
    "# DataLoaders and Model Initialization"
   ]
  },
  {
   "cell_type": "code",
   "execution_count": 3,
   "metadata": {},
   "outputs": [],
   "source": [
    "def ifnone(a,b):\n",
    "    if a is None:\n",
    "        return b\n",
    "    else:\n",
    "        return a\n",
    "def transform(input, target,size=(720,960)):\n",
    "    a, t, sc, sh = transforms.RandomAffine.get_params(degrees=(0,0),\n",
    "                                                      translate=(0.1,0.1),\n",
    "                                                      scale_ranges=(2,2),\n",
    "                                                      shears=(5,5),\n",
    "                                                      img_size=size)\n",
    "    input = F.affine(input, a, t, sc, sh)\n",
    "    target = F.affine(target, a, t, sc, sh)\n",
    "    if random.random() > 0.5:\n",
    "        input = F.hflip(input)\n",
    "        target = F.hflip(target)\n",
    "    input,target = F.to_tensor(input), torch.Tensor(np.array(target))\n",
    "    input = F.normalize(input,imagenet_stats[0],imagenet_stats[1])\n",
    "    return input, target\n",
    "def prep_mask(mask):\n",
    "    return torch.Tensor(mask)\n",
    "class CamvidDataset(Dataset):\n",
    "    def __init__(self,path,train=True,label_func=None):\n",
    "        self.path = path\n",
    "        all_files = glob.glob(path+'/images/*.png')\n",
    "        valid_files = []\n",
    "        with open(path+'/valid.txt','r') as f:\n",
    "            for line in f:\n",
    "                valid_files.append(path+'/images/'+line[:-1])\n",
    "        if train:            \n",
    "            self.files = [x for x in all_files if x not in valid_files]\n",
    "        else:\n",
    "            self.files = valid_files\n",
    "        self.label_func = ifnone(label_func, lambda x: path+'/labels/'+x.split('/')[-1][:-4]+'_P.png')\n",
    "        self.label_files = [self.label_func(x) for x in self.files]\n",
    "        self.c = 32\n",
    "    def __len__(self):\n",
    "        return len(self.files)\n",
    "    def __getitem__(self,i):\n",
    "        im = Image.open(self.files[i])\n",
    "        mask = Image.open(self.label_files[i])\n",
    "        im,mask = transform(im,mask)    \n",
    "        return {'im':im,'mask':mask}\n",
    "class CamvidNewDataset(Dataset):\n",
    "    def __init__(self,path,transforms=True,train=True,label_func=None):\n",
    "        self.path = path\n",
    "        self.files = glob.glob(path+'/*.png')\n",
    "        self.label_func = label_func\n",
    "        self.label_files = [self.label_func(x) for x in self.files]\n",
    "        self.transform = transforms\n",
    "        self.c = 12\n",
    "    def __len__(self):\n",
    "        return len(self.files)\n",
    "    def __getitem__(self,i):\n",
    "        im = Image.open(self.files[i])\n",
    "        mask = Image.open(self.label_files[i])\n",
    "        if self.transform:\n",
    "            im,mask = transform(im,mask,(360,480))    \n",
    "        else:\n",
    "            im,mask = F.to_tensor(im),torch.tensor(np.array(mask))\n",
    "            im = F.normalize(im,imagenet_stats[0],imagenet_stats[1])\n",
    "        return {'im':im,'mask':mask.squeeze()}\n",
    "class CamvidCombDataset(Dataset):\n",
    "    def __init__(self,path,filelist,transforms=True,label_func=None):\n",
    "        self.path = path\n",
    "        all_files = glob.glob(path+'/images/*.png')\n",
    "        names = []\n",
    "        with open(filelist,'r') as f:\n",
    "            for line in f:\n",
    "                names.append(path+'/images/'+line.split(' ')[0].split('/')[-1])\n",
    "        self.files = [x for x in all_files if x in names]\n",
    "        self.label_func = ifnone(label_func, lambda x: path+'/labels/'+x.split('/')[-1][:-4]+'_P.png')\n",
    "        self.label_files = [self.label_func(x) for x in self.files]\n",
    "        self.transform = transforms\n",
    "        self.c = 12\n",
    "    def __len__(self):\n",
    "        return len(self.files)\n",
    "    def __getitem__(self,i):\n",
    "        im = Image.open(self.files[i])\n",
    "        mask = Image.open(self.label_files[i])\n",
    "        if self.transform:\n",
    "            im,mask = transform(im,mask)    \n",
    "        else:\n",
    "            im,mask = F.to_tensor(im),torch.tensor(np.array(mask))\n",
    "            im = F.normalize(im,imagenet_stats[0],imagenet_stats[1])\n",
    "        return {'im':im,'mask':mask.squeeze()}"
   ]
  },
  {
   "cell_type": "code",
   "execution_count": 4,
   "metadata": {},
   "outputs": [],
   "source": [
    "train_data = CamvidNewDataset('../SegNet-Tutorial/CamVid/train',True,\n",
    "                           label_func=lambda x: '/'.join(x.split('/')[:-2])+'/trainannot/'+x.split('/')[-1])\n",
    "valid_data = CamvidNewDataset('../SegNet-Tutorial/CamVid/val',False,\n",
    "                           label_func=lambda x: '/'.join(x.split('/')[:-2])+'/valannot/'+x.split('/')[-1])\n",
    "test_data = CamvidNewDataset('../SegNet-Tutorial/CamVid/test',False,\n",
    "                           label_func=lambda x: '/'.join(x.split('/')[:-2])+'/testannot/'+x.split('/')[-1])\n",
    "train_dl = DataLoader(train_data,batch_size=8,shuffle=True)\n",
    "valid_dl = DataLoader(valid_data,batch_size=8,shuffle=False)\n",
    "test_dl = DataLoader(test_data,batch_size=8,shuffle=False)\n",
    "from linknet_model import Linknet\n",
    "model = Linknet(12)\n",
    "class_weights = np.load('cls_wts.npy')\n",
    "# train_data = CamvidCombDataset('../camvid','../SegNet-Tutorial/CamVid/train.txt')\n",
    "# valid_data = CamvidCombDataset('../camvid','../SegNet-Tutorial/CamVid/val.txt', transforms=False)\n",
    "# test_data = CamvidCombDataset('../camvid','../SegNet-Tutorial/CamVid/test.txt', transforms=False)\n",
    "# train_dl = DataLoader(train_data,batch_size=8,shuffle=True)\n",
    "# valid_dl = DataLoader(valid_data,batch_size=8,shuffle=False)\n",
    "# test_dl = DataLoader(test_data,batch_size=8,shuffle=False)\n",
    "# from linknet_model import Linknet\n",
    "# model = Linknet(32)"
   ]
  },
  {
   "cell_type": "code",
   "execution_count": 5,
   "metadata": {},
   "outputs": [
    {
     "data": {
      "text/plain": [
       "(367, 101, 233)"
      ]
     },
     "execution_count": 5,
     "metadata": {},
     "output_type": "execute_result"
    }
   ],
   "source": [
    "len(train_data),len(valid_data),len(test_data)"
   ]
  },
  {
   "cell_type": "markdown",
   "metadata": {},
   "source": [
    "# Training"
   ]
  },
  {
   "cell_type": "code",
   "execution_count": 6,
   "metadata": {},
   "outputs": [],
   "source": [
    "import matplotlib.pyplot as plt\n",
    "def dice(inp,targ):\n",
    "    n = inp.shape[0]\n",
    "    inp = inp.argmax(dim=1)\n",
    "    dice = 0\n",
    "    # Image(torch.abs(inp-targ)).show(figsize=(10,10))\n",
    "    # diff = torch.abs(inp[0]-targ[0]).cpu().numpy()\n",
    "    # diff = np.where(diff==0,0,1)\n",
    "    # plt.figure(figsize=(5,5))\n",
    "    # plt.imshow(diff,cmap='gray') \n",
    "    # plt.show()\n",
    "    for i in range(n):\n",
    "        imdice = 0\n",
    "        for j in torch.unique(targ[i]):\n",
    "            inpb = torch.where(inp[i]==j,torch.ones_like(inp).cuda(),torch.zeros_like(inp).cuda()).view(-1)\n",
    "            targb = torch.where(targ[i]==j,torch.ones_like(targ).cuda(),torch.zeros_like(targ).cuda()).view(-1)\n",
    "            intersection = 2*(inpb*targb).sum()\n",
    "            union = (inpb+targb).sum()\n",
    "            class_dice = (intersection/(union + 1e-8))\n",
    "            imdice += class_dice\n",
    "        imdice /= n*torch.unique(targ[i]).shape[0]\n",
    "        dice += imdice\n",
    "    return dice"
   ]
  },
  {
   "cell_type": "code",
   "execution_count": 9,
   "metadata": {
    "scrolled": true
   },
   "outputs": [
    {
     "data": {
      "application/vnd.jupyter.widget-view+json": {
       "model_id": "4d99920ec73e4b6184830929b4087a17",
       "version_major": 2,
       "version_minor": 0
      },
      "text/plain": [
       "HBox(children=(FloatProgress(value=0.0), HTML(value='')))"
      ]
     },
     "metadata": {},
     "output_type": "display_data"
    },
    {
     "name": "stdout",
     "output_type": "stream",
     "text": [
      "Epoch 0: Train Loss: 1.8867, Val Dice: 0.2492\n",
      "Better model found at epoch: 0\n",
      "Epoch 1: Train Loss: 1.7119, Val Dice: 0.3005\n",
      "Better model found at epoch: 1\n",
      "Epoch 2: Train Loss: 1.4059, Val Dice: 0.3458\n",
      "Better model found at epoch: 2\n",
      "Epoch 3: Train Loss: 1.2529, Val Dice: 0.4194\n",
      "Better model found at epoch: 3\n",
      "Epoch 4: Train Loss: 1.2787, Val Dice: 0.3921\n",
      "Epoch 5: Train Loss: 1.0409, Val Dice: 0.4591\n",
      "Better model found at epoch: 5\n",
      "Epoch 6: Train Loss: 0.9126, Val Dice: 0.4434\n",
      "Epoch 7: Train Loss: 0.8430, Val Dice: 0.4353\n",
      "Epoch 8: Train Loss: 0.7697, Val Dice: 0.4339\n",
      "Epoch 9: Train Loss: 0.8344, Val Dice: 0.4908\n",
      "Better model found at epoch: 9\n",
      "Epoch 10: Train Loss: 0.8284, Val Dice: 0.4776\n",
      "Epoch 11: Train Loss: 0.8277, Val Dice: 0.4451\n",
      "Epoch 12: Train Loss: 0.9192, Val Dice: 0.5368\n",
      "Better model found at epoch: 12\n",
      "Epoch 13: Train Loss: 0.8883, Val Dice: 0.4367\n",
      "Epoch 14: Train Loss: 0.7811, Val Dice: 0.4875\n",
      "Epoch 15: Train Loss: 0.8265, Val Dice: 0.3838\n",
      "Epoch 16: Train Loss: 0.9597, Val Dice: 0.4581\n",
      "Epoch 17: Train Loss: 0.7707, Val Dice: 0.5592\n",
      "Better model found at epoch: 17\n",
      "Epoch 18: Train Loss: 0.7173, Val Dice: 0.5230\n",
      "Epoch 19: Train Loss: 0.7853, Val Dice: 0.5013\n",
      "Epoch 20: Train Loss: 0.7404, Val Dice: 0.5224\n",
      "Epoch 21: Train Loss: 0.6595, Val Dice: 0.6180\n",
      "Better model found at epoch: 21\n",
      "Epoch 22: Train Loss: 0.7117, Val Dice: 0.4865\n",
      "Epoch 23: Train Loss: 0.6817, Val Dice: 0.5693\n",
      "Epoch 24: Train Loss: 0.7418, Val Dice: 0.4891\n",
      "Epoch 25: Train Loss: 0.6923, Val Dice: 0.5388\n",
      "Epoch 26: Train Loss: 0.6610, Val Dice: 0.4078\n",
      "Epoch 27: Train Loss: 0.7308, Val Dice: 0.4152\n",
      "Epoch 28: Train Loss: 0.6395, Val Dice: 0.6017\n",
      "Epoch 29: Train Loss: 0.7469, Val Dice: 0.5509\n",
      "Epoch 30: Train Loss: 0.8999, Val Dice: 0.5077\n",
      "Epoch 31: Train Loss: 0.5727, Val Dice: 0.5718\n",
      "Epoch 32: Train Loss: 0.6887, Val Dice: 0.5694\n",
      "Epoch 33: Train Loss: 0.5914, Val Dice: 0.6326\n",
      "Better model found at epoch: 33\n",
      "Epoch 34: Train Loss: 0.6904, Val Dice: 0.5392\n",
      "Epoch 35: Train Loss: 0.6614, Val Dice: 0.4953\n",
      "Epoch 36: Train Loss: 0.6416, Val Dice: 0.6319\n",
      "Epoch 37: Train Loss: 0.4697, Val Dice: 0.5853\n",
      "Epoch 38: Train Loss: 0.6743, Val Dice: 0.5763\n",
      "Epoch 39: Train Loss: 0.4871, Val Dice: 0.6233\n",
      "Epoch 40: Train Loss: 0.4977, Val Dice: 0.6421\n",
      "Better model found at epoch: 40\n",
      "Epoch 41: Train Loss: 0.4784, Val Dice: 0.5862\n",
      "Epoch 42: Train Loss: 0.3972, Val Dice: 0.5958\n",
      "Epoch 43: Train Loss: 0.4108, Val Dice: 0.6507\n",
      "Better model found at epoch: 43\n",
      "Epoch 44: Train Loss: 0.6348, Val Dice: 0.5538\n",
      "Epoch 45: Train Loss: 0.5923, Val Dice: 0.2366\n",
      "Epoch 46: Train Loss: 0.5833, Val Dice: 0.6131\n",
      "Epoch 47: Train Loss: 0.7008, Val Dice: 0.6706\n",
      "Better model found at epoch: 47\n",
      "Epoch 48: Train Loss: 0.4373, Val Dice: 0.6554\n",
      "Epoch 49: Train Loss: 0.4561, Val Dice: 0.6467\n",
      "Epoch 50: Train Loss: 0.5705, Val Dice: 0.6453\n",
      "Epoch 51: Train Loss: 0.4003, Val Dice: 0.6821\n",
      "Better model found at epoch: 51\n",
      "Epoch 52: Train Loss: 0.4520, Val Dice: 0.6373\n",
      "Epoch 53: Train Loss: 0.5419, Val Dice: 0.6364\n",
      "Epoch 54: Train Loss: 0.4994, Val Dice: 0.3796\n",
      "Epoch 55: Train Loss: 0.5994, Val Dice: 0.5765\n",
      "Epoch 56: Train Loss: 0.4543, Val Dice: 0.5907\n",
      "Epoch 57: Train Loss: 0.4446, Val Dice: 0.6456\n",
      "Epoch 58: Train Loss: 0.4562, Val Dice: 0.6369\n",
      "Epoch 59: Train Loss: 0.4447, Val Dice: 0.6552\n",
      "Epoch 60: Train Loss: 0.4178, Val Dice: 0.6807\n",
      "Epoch 61: Train Loss: 0.5805, Val Dice: 0.6555\n",
      "Epoch 62: Train Loss: 0.4747, Val Dice: 0.6707\n",
      "Epoch 63: Train Loss: 0.4482, Val Dice: 0.6735\n",
      "Epoch 64: Train Loss: 0.4303, Val Dice: 0.6676\n",
      "Epoch 65: Train Loss: 0.3663, Val Dice: 0.6822\n",
      "Better model found at epoch: 65\n",
      "Epoch 66: Train Loss: 0.4060, Val Dice: 0.6323\n",
      "Epoch 67: Train Loss: 0.3863, Val Dice: 0.6680\n",
      "Epoch 68: Train Loss: 0.4586, Val Dice: 0.6640\n",
      "Epoch 69: Train Loss: 0.4202, Val Dice: 0.6592\n",
      "Epoch 70: Train Loss: 0.4660, Val Dice: 0.6418\n",
      "Epoch 71: Train Loss: 0.3785, Val Dice: 0.6254\n",
      "Epoch 72: Train Loss: 0.4656, Val Dice: 0.6670\n",
      "Epoch 73: Train Loss: 0.4106, Val Dice: 0.6351\n",
      "Epoch 74: Train Loss: 0.4052, Val Dice: 0.6513\n",
      "Epoch 75: Train Loss: 0.3999, Val Dice: 0.6798\n",
      "Epoch 76: Train Loss: 0.3731, Val Dice: 0.6850\n",
      "Better model found at epoch: 76\n",
      "Epoch 77: Train Loss: 0.3966, Val Dice: 0.6690\n",
      "Epoch 78: Train Loss: 0.3415, Val Dice: 0.6797\n",
      "Epoch 79: Train Loss: 0.3644, Val Dice: 0.6863\n",
      "Better model found at epoch: 79\n",
      "Epoch 80: Train Loss: 0.3790, Val Dice: 0.6809\n",
      "Epoch 81: Train Loss: 0.3408, Val Dice: 0.6839\n",
      "Epoch 82: Train Loss: 0.3769, Val Dice: 0.6737\n",
      "Epoch 83: Train Loss: 0.3529, Val Dice: 0.6753\n",
      "Epoch 84: Train Loss: 0.3495, Val Dice: 0.6715\n",
      "Epoch 85: Train Loss: 0.3290, Val Dice: 0.6676\n",
      "Epoch 86: Train Loss: 0.3383, Val Dice: 0.6757\n",
      "Epoch 87: Train Loss: 0.3526, Val Dice: 0.6793\n",
      "Epoch 88: Train Loss: 0.3326, Val Dice: 0.6769\n",
      "Epoch 89: Train Loss: 0.4025, Val Dice: 0.6756\n",
      "Epoch 90: Train Loss: 0.3910, Val Dice: 0.6728\n",
      "Epoch 91: Train Loss: 0.4150, Val Dice: 0.6711\n",
      "Epoch 92: Train Loss: 0.3932, Val Dice: 0.6754\n",
      "Epoch 93: Train Loss: 0.4113, Val Dice: 0.6788\n",
      "Epoch 94: Train Loss: 0.2772, Val Dice: 0.6733\n",
      "Epoch 95: Train Loss: 0.3705, Val Dice: 0.6722\n",
      "Epoch 96: Train Loss: 0.3595, Val Dice: 0.6785\n",
      "Epoch 97: Train Loss: 0.4270, Val Dice: 0.6771\n",
      "Epoch 98: Train Loss: 0.3103, Val Dice: 0.6726\n",
      "Epoch 99: Train Loss: 0.4256, Val Dice: 0.6747\n",
      "\n"
     ]
    }
   ],
   "source": [
    "model.cuda()\n",
    "opt = torch.optim.Adam(model.parameters())\n",
    "# opt = torch.optim.AdamW(model.parameters())\n",
    "# sched = torch.optim.lr_scheduler.OneCycleLR(opt,max_lr=3e-3,div_factor=5,final_div_factor=10000,epochs=100,steps_per_epoch=46,pct_start=0.3)\n",
    "best_dice = 0\n",
    "loss_fn = nn.CrossEntropyLoss(weight=torch.Tensor(class_weights).cuda())\n",
    "for epoch in tqdm(range(100)):\n",
    "    model.train()\n",
    "    for batch in train_dl:\n",
    "        ypred = model(batch['im'].cuda())\n",
    "        yb = batch['mask'].cuda()\n",
    "        loss = loss_fn(ypred,yb.long())\n",
    "        print(f'{loss:.4f}', end='\\r')\n",
    "        loss.backward()\n",
    "        opt.step()\n",
    "        opt.zero_grad()\n",
    "        # sched.step()\n",
    "    model.eval()\n",
    "    d=0\n",
    "    for i,batch in enumerate(valid_dl):\n",
    "        ypred = model(batch['im'].cuda())\n",
    "        yb = batch['mask'].cuda()\n",
    "        d += dice(ypred.detach(),yb).item()\n",
    "    d /= i+1\n",
    "    print(f'Epoch {epoch}: Train Loss: {loss:.4f}, Val Dice: {d:.4f}')\n",
    "    if d>=best_dice:\n",
    "        print(f'Better model found at epoch: {epoch}')\n",
    "        torch.save(model.state_dict(),'best_dice.pkl')\n",
    "        best_dice = d"
   ]
  },
  {
   "cell_type": "markdown",
   "metadata": {},
   "source": [
    "# Test"
   ]
  },
  {
   "cell_type": "code",
   "execution_count": 7,
   "metadata": {},
   "outputs": [
    {
     "data": {
      "text/plain": [
       "<All keys matched successfully>"
      ]
     },
     "execution_count": 7,
     "metadata": {},
     "output_type": "execute_result"
    }
   ],
   "source": [
    "model.load_state_dict(torch.load('best_dice.pkl'))"
   ]
  },
  {
   "cell_type": "code",
   "execution_count": 8,
   "metadata": {},
   "outputs": [
    {
     "data": {
      "application/vnd.jupyter.widget-view+json": {
       "model_id": "b2249ddf373e4c3faa59c8ca6c61ff30",
       "version_major": 2,
       "version_minor": 0
      },
      "text/plain": [
       "HBox(children=(FloatProgress(value=0.0, max=30.0), HTML(value='')))"
      ]
     },
     "metadata": {},
     "output_type": "display_data"
    },
    {
     "name": "stdout",
     "output_type": "stream",
     "text": [
      "\n",
      "0.5726383368174235\n"
     ]
    }
   ],
   "source": [
    "model.eval()\n",
    "model.cuda()\n",
    "d=0\n",
    "for i,batch in enumerate(tqdm(test_dl)):\n",
    "    ypred = model(batch['im'].cuda())\n",
    "    yb = batch['mask'].cuda()\n",
    "    d += dice(ypred.detach(),yb).item()\n",
    "print(d/(i+1))"
   ]
  },
  {
   "cell_type": "markdown",
   "metadata": {},
   "source": [
    "# Visualize some results"
   ]
  },
  {
   "cell_type": "code",
   "execution_count": 28,
   "metadata": {},
   "outputs": [],
   "source": [
    "model.eval()\n",
    "op = nn.LogSoftmax(dim=1)(model(test_data[10]['im'].unsqueeze(0).cuda()))\n",
    "op = op.argmax(dim=1)"
   ]
  },
  {
   "cell_type": "code",
   "execution_count": 29,
   "metadata": {},
   "outputs": [
    {
     "data": {
      "image/png": "[encoded data removed]",
      "text/plain": [
       "<Figure size 576x576 with 1 Axes>"
      ]
     },
     "metadata": {
      "needs_background": "light"
     },
     "output_type": "display_data"
    }
   ],
   "source": [
    "from fastai.vision import Image as Fimage\n",
    "Fimage(op.detach()).show(figsize=(8,8))"
   ]
  },
  {
   "cell_type": "code",
   "execution_count": 30,
   "metadata": {},
   "outputs": [
    {
     "data": {
      "image/png": "[encoded data removed]",
      "text/plain": [
       "<Figure size 576x576 with 1 Axes>"
      ]
     },
     "metadata": {
      "needs_background": "light"
     },
     "output_type": "display_data"
    }
   ],
   "source": [
    "Fimage(test_data[10]['mask'].unsqueeze(0)).show(figsize=(8,8))"
   ]
  }
 ],
 "metadata": {
  "kernelspec": {
   "display_name": "Python 3",
   "language": "python",
   "name": "python3"
  },
  "language_info": {
   "codemirror_mode": {
    "name": "ipython",
    "version": 3
   },
   "file_extension": ".py",
   "mimetype": "text/x-python",
   "name": "python",
   "nbconvert_exporter": "python",
   "pygments_lexer": "ipython3",
   "version": "3.7.7"
  }
 },
 "nbformat": 4,
 "nbformat_minor": 4
}
